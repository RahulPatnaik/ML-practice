{
  "nbformat": 4,
  "nbformat_minor": 0,
  "metadata": {
    "colab": {
      "provenance": [],
      "authorship_tag": "ABX9TyMXa1zZhutoILmdp1swcsfM",
      "include_colab_link": true
    },
    "kernelspec": {
      "name": "python3",
      "display_name": "Python 3"
    },
    "language_info": {
      "name": "python"
    }
  },
  "cells": [
    {
      "cell_type": "markdown",
      "metadata": {
        "id": "view-in-github",
        "colab_type": "text"
      },
      "source": [
        "<a href=\"https://colab.research.google.com/github/RahulPatnaik/ML-practice/blob/main/LeNet.ipynb\" target=\"_parent\"><img src=\"https://colab.research.google.com/assets/colab-badge.svg\" alt=\"Open In Colab\"/></a>"
      ]
    },
    {
      "cell_type": "code",
      "execution_count": 1,
      "metadata": {
        "id": "-7-dkUHLUuZl"
      },
      "outputs": [],
      "source": [
        "import tensorflow as tf\n",
        "import numpy as np\n",
        "import matplotlib.pyplot as plt"
      ]
    },
    {
      "cell_type": "code",
      "source": [
        "mnist = tf.keras.datasets.mnist\n",
        "(x_train, y_train), (x_test, y_test) = mnist.load_data()"
      ],
      "metadata": {
        "colab": {
          "base_uri": "https://localhost:8080/"
        },
        "id": "vIuor1ZJY-xz",
        "outputId": "0e6471ff-6b41-4d93-f7b9-ff141322b0a9"
      },
      "execution_count": 2,
      "outputs": [
        {
          "output_type": "stream",
          "name": "stdout",
          "text": [
            "Downloading data from https://storage.googleapis.com/tensorflow/tf-keras-datasets/mnist.npz\n",
            "11490434/11490434 [==============================] - 0s 0us/step\n"
          ]
        }
      ]
    },
    {
      "cell_type": "code",
      "source": [
        "x_train.shape"
      ],
      "metadata": {
        "colab": {
          "base_uri": "https://localhost:8080/"
        },
        "id": "qjILVVYmSLjs",
        "outputId": "33d50343-dbbe-4ae7-8329-e1b5b4500f77"
      },
      "execution_count": 4,
      "outputs": [
        {
          "output_type": "execute_result",
          "data": {
            "text/plain": [
              "(60000, 28, 28)"
            ]
          },
          "metadata": {},
          "execution_count": 4
        }
      ]
    },
    {
      "cell_type": "code",
      "source": [
        "x_train = x_train.reshape(x_train.shape[0], 28, 28, 1)\n",
        "x_test = x_test.reshape(x_test.shape[0], 28, 28, 1)\n",
        "\n",
        "input_shape = (28, 28, 1)"
      ],
      "metadata": {
        "id": "gCZEmcS6ZPI6"
      },
      "execution_count": 5,
      "outputs": []
    },
    {
      "cell_type": "code",
      "source": [
        "x_train = x_train.astype('float32')\n",
        "x_test = x_test.astype('float32')\n",
        "\n",
        "x_train = x_train / 255.0\n",
        "x_test = x_test / 255.0"
      ],
      "metadata": {
        "id": "sGyqDacAcHAu"
      },
      "execution_count": 6,
      "outputs": []
    },
    {
      "cell_type": "code",
      "source": [
        "y_train = tf.keras.utils.to_categorical(y_train, 10)\n",
        "y_test = tf.keras.utils.to_categorical(y_test, 10)"
      ],
      "metadata": {
        "id": "7njVsg1icoXp"
      },
      "execution_count": 7,
      "outputs": []
    },
    {
      "cell_type": "code",
      "source": [
        "def build_lenet(input_shape):\n",
        "    model = tf.keras.Sequential()\n",
        "\n",
        "    model.add(tf.keras.layers.Conv2D(6, kernel_size= (5,5), strides= (1,1), activation= 'tanh', input_shape= input_shape))\n",
        "\n",
        "    model.add(tf.keras.layers.AveragePooling2D(pool_size= (2, 2), strides= (2, 2)))\n",
        "\n",
        "    model.add(tf.keras.layers.Conv2D(16, kernel_size= (2, 2), strides= (1,1), activation= 'tanh'))\n",
        "\n",
        "    model.add(tf.keras.layers.AveragePooling2D(pool_size= (2, 2), strides= (1, 1)))\n",
        "\n",
        "    model.add(tf.keras.layers.Flatten())\n",
        "\n",
        "    model.add(tf.keras.layers.Dense(120, activation= 'tanh'))\n",
        "\n",
        "    model.add(tf.keras.layers.Dense(84, activation= 'tanh'))\n",
        "\n",
        "    model.add(tf.keras.layers.Dense(10, activation= 'softmax'))\n",
        "\n",
        "    model.compile(loss= 'categorical_crossentropy', optimizer= tf.keras.optimizers.SGD(learning_rate= 0.01, momentum= 0.9), metrics= ['accuracy'])\n",
        "\n",
        "    return model\n"
      ],
      "metadata": {
        "id": "97g-c-JeZse9"
      },
      "execution_count": 8,
      "outputs": []
    },
    {
      "cell_type": "code",
      "source": [
        "def scheduler(epoch, lr):\n",
        "    if epoch < 2:\n",
        "        return 0.01\n",
        "    elif epoch < 5:\n",
        "        return 0.005\n",
        "    elif epoch < 8:\n",
        "        return 0.0025\n",
        "    else:\n",
        "        return 0.00125"
      ],
      "metadata": {
        "id": "95lwHGyFgyGo"
      },
      "execution_count": 9,
      "outputs": []
    },
    {
      "cell_type": "code",
      "source": [
        "lr_callback = tf.keras.callbacks.LearningRateScheduler(scheduler)"
      ],
      "metadata": {
        "id": "Y-sjizcakNmN"
      },
      "execution_count": 10,
      "outputs": []
    },
    {
      "cell_type": "code",
      "source": [
        "lenet = build_lenet(input_shape)\n",
        "\n",
        "epochs = 20\n",
        "\n",
        "history = lenet.fit(x_train, y_train, epochs= epochs, callbacks= [lr_callback], validation_data= (x_test, y_test), batch_size= 128, verbose= 1)"
      ],
      "metadata": {
        "colab": {
          "base_uri": "https://localhost:8080/"
        },
        "id": "mZ5jsGBOkZr5",
        "outputId": "150cff7b-d108-4c52-8132-28003967f23a"
      },
      "execution_count": 11,
      "outputs": [
        {
          "output_type": "stream",
          "name": "stdout",
          "text": [
            "Epoch 1/20\n",
            "469/469 [==============================] - 22s 45ms/step - loss: 0.3857 - accuracy: 0.8899 - val_loss: 0.1867 - val_accuracy: 0.9453 - lr: 0.0100\n",
            "Epoch 2/20\n",
            "469/469 [==============================] - 22s 47ms/step - loss: 0.1546 - accuracy: 0.9541 - val_loss: 0.1177 - val_accuracy: 0.9660 - lr: 0.0100\n",
            "Epoch 3/20\n",
            "469/469 [==============================] - 20s 43ms/step - loss: 0.1060 - accuracy: 0.9694 - val_loss: 0.0930 - val_accuracy: 0.9731 - lr: 0.0050\n",
            "Epoch 4/20\n",
            "469/469 [==============================] - 22s 47ms/step - loss: 0.0902 - accuracy: 0.9739 - val_loss: 0.0813 - val_accuracy: 0.9744 - lr: 0.0050\n",
            "Epoch 5/20\n",
            "469/469 [==============================] - 22s 47ms/step - loss: 0.0779 - accuracy: 0.9778 - val_loss: 0.0741 - val_accuracy: 0.9772 - lr: 0.0050\n",
            "Epoch 6/20\n",
            "469/469 [==============================] - 21s 45ms/step - loss: 0.0682 - accuracy: 0.9808 - val_loss: 0.0685 - val_accuracy: 0.9791 - lr: 0.0025\n",
            "Epoch 7/20\n",
            "469/469 [==============================] - 22s 47ms/step - loss: 0.0641 - accuracy: 0.9819 - val_loss: 0.0667 - val_accuracy: 0.9780 - lr: 0.0025\n",
            "Epoch 8/20\n",
            "469/469 [==============================] - 20s 43ms/step - loss: 0.0608 - accuracy: 0.9830 - val_loss: 0.0634 - val_accuracy: 0.9799 - lr: 0.0025\n",
            "Epoch 9/20\n",
            "469/469 [==============================] - 23s 50ms/step - loss: 0.0568 - accuracy: 0.9842 - val_loss: 0.0608 - val_accuracy: 0.9815 - lr: 0.0012\n",
            "Epoch 10/20\n",
            "469/469 [==============================] - 22s 48ms/step - loss: 0.0552 - accuracy: 0.9847 - val_loss: 0.0602 - val_accuracy: 0.9806 - lr: 0.0012\n",
            "Epoch 11/20\n",
            "469/469 [==============================] - 21s 44ms/step - loss: 0.0538 - accuracy: 0.9851 - val_loss: 0.0592 - val_accuracy: 0.9814 - lr: 0.0012\n",
            "Epoch 12/20\n",
            "469/469 [==============================] - 22s 47ms/step - loss: 0.0524 - accuracy: 0.9857 - val_loss: 0.0576 - val_accuracy: 0.9810 - lr: 0.0012\n",
            "Epoch 13/20\n",
            "469/469 [==============================] - 20s 43ms/step - loss: 0.0512 - accuracy: 0.9860 - val_loss: 0.0573 - val_accuracy: 0.9821 - lr: 0.0012\n",
            "Epoch 14/20\n",
            "469/469 [==============================] - 22s 47ms/step - loss: 0.0499 - accuracy: 0.9862 - val_loss: 0.0567 - val_accuracy: 0.9822 - lr: 0.0012\n",
            "Epoch 15/20\n",
            "469/469 [==============================] - 22s 47ms/step - loss: 0.0487 - accuracy: 0.9870 - val_loss: 0.0553 - val_accuracy: 0.9824 - lr: 0.0012\n",
            "Epoch 16/20\n",
            "469/469 [==============================] - 21s 45ms/step - loss: 0.0476 - accuracy: 0.9870 - val_loss: 0.0544 - val_accuracy: 0.9815 - lr: 0.0012\n",
            "Epoch 17/20\n",
            "469/469 [==============================] - 23s 48ms/step - loss: 0.0466 - accuracy: 0.9876 - val_loss: 0.0540 - val_accuracy: 0.9822 - lr: 0.0012\n",
            "Epoch 18/20\n",
            "469/469 [==============================] - 22s 47ms/step - loss: 0.0454 - accuracy: 0.9878 - val_loss: 0.0532 - val_accuracy: 0.9828 - lr: 0.0012\n",
            "Epoch 19/20\n",
            "469/469 [==============================] - 21s 45ms/step - loss: 0.0446 - accuracy: 0.9877 - val_loss: 0.0527 - val_accuracy: 0.9818 - lr: 0.0012\n",
            "Epoch 20/20\n",
            "469/469 [==============================] - 23s 50ms/step - loss: 0.0437 - accuracy: 0.9883 - val_loss: 0.0520 - val_accuracy: 0.9834 - lr: 0.0012\n"
          ]
        }
      ]
    },
    {
      "cell_type": "code",
      "source": [
        "image_index = 4444\n",
        "plt.imshow(x_test[image_index].reshape(28, 28), cmap= 'Greys')\n",
        "\n",
        "pred = lenet.predict(x_test[image_index].reshape(1, 28, 28, 1))\n",
        "print(pred.argmax())\n"
      ],
      "metadata": {
        "colab": {
          "base_uri": "https://localhost:8080/",
          "height": 465
        },
        "id": "pqu9ZR0VUm6X",
        "outputId": "17b0839e-868d-46ac-b5a7-77e8ae36bde4"
      },
      "execution_count": 12,
      "outputs": [
        {
          "output_type": "stream",
          "name": "stdout",
          "text": [
            "1/1 [==============================] - 0s 166ms/step\n",
            "9\n"
          ]
        },
        {
          "output_type": "display_data",
          "data": {
            "text/plain": [
              "<Figure size 640x480 with 1 Axes>"
            ],
            "image/png": "[encoded data removed]"
          },
          "metadata": {}
        }
      ]
    }
  ]
}